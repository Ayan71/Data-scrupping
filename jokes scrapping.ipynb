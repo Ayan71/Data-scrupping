{
 "cells": [
  {
   "cell_type": "code",
   "execution_count": 3,
   "id": "81437db2",
   "metadata": {},
   "outputs": [],
   "source": [
    "import numpy as np\n",
    "import pandas as pd\n",
    "import requests\n",
    "from bs4 import BeautifulSoup\n",
    "import json"
   ]
  },
  {
   "cell_type": "code",
   "execution_count": null,
   "id": "d75a08a1",
   "metadata": {},
   "outputs": [],
   "source": [
    "data=requests.get('https://hamariweb.com/mobiles/messages.aspx?cat=9&page=1')\n",
    "data"
   ]
  },
  {
   "cell_type": "code",
   "execution_count": null,
   "id": "f6a7d62d",
   "metadata": {},
   "outputs": [],
   "source": [
    "filter_in_html=BeautifulSoup(data.content,'html5lib')\n"
   ]
  },
  {
   "cell_type": "code",
   "execution_count": null,
   "id": "e0112a5e",
   "metadata": {},
   "outputs": [],
   "source": [
    "require_data=filter_in_html.find_all('div',attrs={'class':'col-lg-4 mb_25'})\n",
    "require_data"
   ]
  },
  {
   "cell_type": "code",
   "execution_count": null,
   "id": "4ba8daa2",
   "metadata": {},
   "outputs": [],
   "source": [
    "jokes=[]\n",
    "wtps=[]\n",
    "for items in require_data:\n",
    "    jokes.append(items.a.string)\n",
    "    wtps.append(items.find('a',attrs={'class':'whatsapp_btn'}).attrs['href'])\n",
    "    \n",
    "    "
   ]
  },
  {
   "cell_type": "code",
   "execution_count": null,
   "id": "e399513a",
   "metadata": {},
   "outputs": [],
   "source": [
    "Df=pd.DataFrame({\n",
    "    'jokes':jokes,\n",
    "    'whatsapp link':wtps\n",
    "})\n",
    "Df"
   ]
  },
  {
   "cell_type": "code",
   "execution_count": 4,
   "id": "85bc26fd",
   "metadata": {},
   "outputs": [],
   "source": [
    "jokes=[]\n",
    "wtps=[]\n",
    "async def all_jokes(j,w):\n",
    "    page_idx = 1\n",
    "    while page_idx!=0:\n",
    "        data=requests.get('https://hamariweb.com/mobiles/messages.aspx?cat=9&page={0}'.format(page_idx))\n",
    "        filter_in_html=BeautifulSoup(data.content,'html5lib')\n",
    "        require_data=filter_in_html.find_all('div',attrs={'class':'col-lg-4 mb_25'})\n",
    "\n",
    "        \n",
    "        if len(require_data) == 0:\n",
    "            page_idx=0\n",
    "        else:\n",
    "            page_idx+=1\n",
    "        for items in require_data:\n",
    "            jokes.append(items.a.string)\n",
    "            wtps.append(items.find('a',attrs={'class':'whatsapp_btn'}).attrs['href'])\n",
    "    \n",
    "    \n",
    "        \n",
    "        \n",
    "        \n",
    "    "
   ]
  },
  {
   "cell_type": "code",
   "execution_count": 5,
   "id": "74ceb801",
   "metadata": {},
   "outputs": [],
   "source": [
    " await all_jokes(jokes,wtps)"
   ]
  },
  {
   "cell_type": "code",
   "execution_count": 6,
   "id": "a5e2f1de",
   "metadata": {},
   "outputs": [
    {
     "data": {
      "text/html": [
       "<div>\n",
       "<style scoped>\n",
       "    .dataframe tbody tr th:only-of-type {\n",
       "        vertical-align: middle;\n",
       "    }\n",
       "\n",
       "    .dataframe tbody tr th {\n",
       "        vertical-align: top;\n",
       "    }\n",
       "\n",
       "    .dataframe thead th {\n",
       "        text-align: right;\n",
       "    }\n",
       "</style>\n",
       "<table border=\"1\" class=\"dataframe\">\n",
       "  <thead>\n",
       "    <tr style=\"text-align: right;\">\n",
       "      <th></th>\n",
       "      <th>jokes</th>\n",
       "      <th>whatsapp</th>\n",
       "    </tr>\n",
       "  </thead>\n",
       "  <tbody>\n",
       "    <tr>\n",
       "      <th>0</th>\n",
       "      <td>Is Garmi Me\\nSubha Ka Nikla Hua\\nAgar Shaam Ko...</td>\n",
       "      <td>https://api.whatsapp.com/send?text=Is%20Garmi%...</td>\n",
       "    </tr>\n",
       "    <tr>\n",
       "      <th>1</th>\n",
       "      <td>What's the similarity between Income Tax and a...</td>\n",
       "      <td>https://api.whatsapp.com/send?text=What's%20th...</td>\n",
       "    </tr>\n",
       "    <tr>\n",
       "      <th>2</th>\n",
       "      <td>Saying Funny jokes boost up the people immunit...</td>\n",
       "      <td>https://api.whatsapp.com/send?text=Saying%20Fu...</td>\n",
       "    </tr>\n",
       "    <tr>\n",
       "      <th>3</th>\n",
       "      <td>Married men live longer than single men do,\\nb...</td>\n",
       "      <td>https://api.whatsapp.com/send?text=Married%20m...</td>\n",
       "    </tr>\n",
       "    <tr>\n",
       "      <th>4</th>\n",
       "      <td>A man in Hell asked Devil: Can I make a call t...</td>\n",
       "      <td>https://api.whatsapp.com/send?text=A%20man%20i...</td>\n",
       "    </tr>\n",
       "  </tbody>\n",
       "</table>\n",
       "</div>"
      ],
      "text/plain": [
       "                                               jokes  \\\n",
       "0  Is Garmi Me\\nSubha Ka Nikla Hua\\nAgar Shaam Ko...   \n",
       "1  What's the similarity between Income Tax and a...   \n",
       "2  Saying Funny jokes boost up the people immunit...   \n",
       "3  Married men live longer than single men do,\\nb...   \n",
       "4  A man in Hell asked Devil: Can I make a call t...   \n",
       "\n",
       "                                            whatsapp  \n",
       "0  https://api.whatsapp.com/send?text=Is%20Garmi%...  \n",
       "1  https://api.whatsapp.com/send?text=What's%20th...  \n",
       "2  https://api.whatsapp.com/send?text=Saying%20Fu...  \n",
       "3  https://api.whatsapp.com/send?text=Married%20m...  \n",
       "4  https://api.whatsapp.com/send?text=A%20man%20i...  "
      ]
     },
     "execution_count": 6,
     "metadata": {},
     "output_type": "execute_result"
    }
   ],
   "source": [
    "Df=pd.DataFrame({\n",
    "    'jokes':jokes,\n",
    "    'whatsapp':wtps\n",
    "})\n",
    "Df.head()"
   ]
  },
  {
   "cell_type": "code",
   "execution_count": null,
   "id": "aae94356",
   "metadata": {},
   "outputs": [],
   "source": []
  }
 ],
 "metadata": {
  "kernelspec": {
   "display_name": "Python 3 (ipykernel)",
   "language": "python",
   "name": "python3"
  },
  "language_info": {
   "codemirror_mode": {
    "name": "ipython",
    "version": 3
   },
   "file_extension": ".py",
   "mimetype": "text/x-python",
   "name": "python",
   "nbconvert_exporter": "python",
   "pygments_lexer": "ipython3",
   "version": "3.9.7"
  }
 },
 "nbformat": 4,
 "nbformat_minor": 5
}
