{
 "cells": [
  {
   "cell_type": "code",
   "execution_count": 3,
   "metadata": {},
   "outputs": [],
   "source": [
    "import numpy as np\n",
    "import pandas as pd\n",
    "from bs4 import BeautifulSoup\n",
    "import json\n",
    "import requests\n",
    "import html5lib"
   ]
  },
  {
   "cell_type": "code",
   "execution_count": 4,
   "metadata": {},
   "outputs": [
    {
     "data": {
      "text/plain": [
       "<Response [200]>"
      ]
     },
     "execution_count": 4,
     "metadata": {},
     "output_type": "execute_result"
    }
   ],
   "source": [
    "data_all=requests.get('https://www.1mg.com/all-diseases?label=a')\n",
    "data_all"
   ]
  },
  {
   "cell_type": "code",
   "execution_count": 26,
   "metadata": {},
   "outputs": [],
   "source": [
    "filter_in_html=BeautifulSoup(data_all.content,'html5lib')\n"
   ]
  },
  {
   "cell_type": "code",
   "execution_count": 20,
   "metadata": {},
   "outputs": [],
   "source": [
    "selected_data=filter_in_html.find_all('a',attrs={'class':'Card__productCard__2MScM marginTop-4 Card__text__2W5M-'})"
   ]
  },
  {
   "cell_type": "code",
   "execution_count": 37,
   "metadata": {},
   "outputs": [
    {
     "data": {
      "text/plain": [
       "['https://www.1mg.com/diseases/acidity-42',\n",
       " 'https://www.1mg.com/diseases/acne-261',\n",
       " 'https://www.1mg.com/diseases/allergic-conditions-10',\n",
       " 'https://www.1mg.com/diseases/amenorrhea-467',\n",
       " 'https://www.1mg.com/diseases/anxiety-69',\n",
       " 'https://www.1mg.com/diseases/arthritis-117',\n",
       " 'https://www.1mg.com/diseases/ascites-922',\n",
       " 'https://www.1mg.com/diseases/asthma-116']"
      ]
     },
     "execution_count": 37,
     "metadata": {},
     "output_type": "execute_result"
    }
   ],
   "source": [
    "name =[]\n",
    "dese=[]\n",
    "link=[]\n",
    "for items in selected_data:\n",
    "    name.append(items.find('p',attrs={'class':'Card__productName__nowyh bodyMedium'}).string)\n",
    "    dese.append(items.find('p',attrs={'class':'Card__productDescription__-TaIB'}).string)\n",
    "    link.append(\"https://www.1mg.com\" + items.attrs['href'])\n",
    "name\n",
    "dese\n",
    "link"
   ]
  },
  {
   "cell_type": "code",
   "execution_count": 40,
   "metadata": {},
   "outputs": [],
   "source": [
    "d_name=[]\n",
    "d_dese=[]\n",
    "d_link=[]\n",
    "alpha='abcdefghijklmnopqrstuvwxyz'\n",
    "async def for_all_pages(d_name,d_dese,d_link):\n",
    "    for single_page in alpha:\n",
    "        data_all=requests.get('https://www.1mg.com/all-diseases?label={0}'.format(single_page))\n",
    "        filter_in_html=BeautifulSoup(data_all.content,'html5lib')\n",
    "        selected_data=filter_in_html.find_all('a',attrs={'class':'Card__productCard__2MScM marginTop-4 Card__text__2W5M-'})\n",
    "    \n",
    "        for items in selected_data:\n",
    "            d_name.append(items.find('p',attrs={'class':'Card__productName__nowyh bodyMedium'}).string)\n",
    "            d_dese.append(items.find('p',attrs={'class':'Card__productDescription__-TaIB'}).string)\n",
    "            d_link.append(\"https://www.1mg.com\"+items.attrs['href'])\n",
    "\n",
    "        \n",
    "        \n",
    "    "
   ]
  },
  {
   "cell_type": "code",
   "execution_count": 41,
   "metadata": {},
   "outputs": [],
   "source": [
    "await for_all_pages(d_name,d_dese,d_link)\n",
    "    \n"
   ]
  },
  {
   "cell_type": "code",
   "execution_count": 42,
   "metadata": {},
   "outputs": [
    {
     "data": {
      "text/html": [
       "<div>\n",
       "<style scoped>\n",
       "    .dataframe tbody tr th:only-of-type {\n",
       "        vertical-align: middle;\n",
       "    }\n",
       "\n",
       "    .dataframe tbody tr th {\n",
       "        vertical-align: top;\n",
       "    }\n",
       "\n",
       "    .dataframe thead th {\n",
       "        text-align: right;\n",
       "    }\n",
       "</style>\n",
       "<table border=\"1\" class=\"dataframe\">\n",
       "  <thead>\n",
       "    <tr style=\"text-align: right;\">\n",
       "      <th></th>\n",
       "      <th>disease name</th>\n",
       "      <th>description</th>\n",
       "      <th>link</th>\n",
       "    </tr>\n",
       "  </thead>\n",
       "  <tbody>\n",
       "    <tr>\n",
       "      <th>0</th>\n",
       "      <td>Acidity</td>\n",
       "      <td>Acidity is one of the most common ailments tha...</td>\n",
       "      <td>https://www.1mg.com/diseases/acidity-42</td>\n",
       "    </tr>\n",
       "    <tr>\n",
       "      <th>1</th>\n",
       "      <td>Acne</td>\n",
       "      <td>Acne is a common condition, which most of us h...</td>\n",
       "      <td>https://www.1mg.com/diseases/acne-261</td>\n",
       "    </tr>\n",
       "    <tr>\n",
       "      <th>2</th>\n",
       "      <td>Allergic conditions</td>\n",
       "      <td>Allergies are caused when the body’s immune sy...</td>\n",
       "      <td>https://www.1mg.com/diseases/allergic-conditio...</td>\n",
       "    </tr>\n",
       "    <tr>\n",
       "      <th>3</th>\n",
       "      <td>Amenorrhea</td>\n",
       "      <td>Amenorrhea is defined as the absence of menstr...</td>\n",
       "      <td>https://www.1mg.com/diseases/amenorrhea-467</td>\n",
       "    </tr>\n",
       "    <tr>\n",
       "      <th>4</th>\n",
       "      <td>Anxiety</td>\n",
       "      <td>Anxiety disorders are the most common types of...</td>\n",
       "      <td>https://www.1mg.com/diseases/anxiety-69</td>\n",
       "    </tr>\n",
       "    <tr>\n",
       "      <th>...</th>\n",
       "      <td>...</td>\n",
       "      <td>...</td>\n",
       "      <td>...</td>\n",
       "    </tr>\n",
       "    <tr>\n",
       "      <th>85</th>\n",
       "      <td>Typhoid fever</td>\n",
       "      <td>Typhoid is an age-old intestinal infection mos...</td>\n",
       "      <td>https://www.1mg.com/diseases/typhoid-fever-254</td>\n",
       "    </tr>\n",
       "    <tr>\n",
       "      <th>86</th>\n",
       "      <td>Urinary tract infections (UTIs)</td>\n",
       "      <td>Urinary tract infections (UTIs) are one of the...</td>\n",
       "      <td>https://www.1mg.com/diseases/urinary-tract-inf...</td>\n",
       "    </tr>\n",
       "    <tr>\n",
       "      <th>87</th>\n",
       "      <td>Vertigo</td>\n",
       "      <td>Vertigo is a sensation of feeling off-balance....</td>\n",
       "      <td>https://www.1mg.com/diseases/vertigo-209</td>\n",
       "    </tr>\n",
       "    <tr>\n",
       "      <th>88</th>\n",
       "      <td>Xerostomia</td>\n",
       "      <td>Xerostomia, commonly known as dry mouth, is a ...</td>\n",
       "      <td>https://www.1mg.com/diseases/xerostomia-910</td>\n",
       "    </tr>\n",
       "    <tr>\n",
       "      <th>89</th>\n",
       "      <td>Zika virus disease</td>\n",
       "      <td>Zika virus disease is a mosquito-borne viral i...</td>\n",
       "      <td>https://www.1mg.com/diseases/zika-virus-diseas...</td>\n",
       "    </tr>\n",
       "  </tbody>\n",
       "</table>\n",
       "<p>90 rows × 3 columns</p>\n",
       "</div>"
      ],
      "text/plain": [
       "                       disease name  \\\n",
       "0                           Acidity   \n",
       "1                              Acne   \n",
       "2               Allergic conditions   \n",
       "3                        Amenorrhea   \n",
       "4                           Anxiety   \n",
       "..                              ...   \n",
       "85                    Typhoid fever   \n",
       "86  Urinary tract infections (UTIs)   \n",
       "87                          Vertigo   \n",
       "88                       Xerostomia   \n",
       "89               Zika virus disease   \n",
       "\n",
       "                                          description  \\\n",
       "0   Acidity is one of the most common ailments tha...   \n",
       "1   Acne is a common condition, which most of us h...   \n",
       "2   Allergies are caused when the body’s immune sy...   \n",
       "3   Amenorrhea is defined as the absence of menstr...   \n",
       "4   Anxiety disorders are the most common types of...   \n",
       "..                                                ...   \n",
       "85  Typhoid is an age-old intestinal infection mos...   \n",
       "86  Urinary tract infections (UTIs) are one of the...   \n",
       "87  Vertigo is a sensation of feeling off-balance....   \n",
       "88  Xerostomia, commonly known as dry mouth, is a ...   \n",
       "89  Zika virus disease is a mosquito-borne viral i...   \n",
       "\n",
       "                                                 link  \n",
       "0             https://www.1mg.com/diseases/acidity-42  \n",
       "1               https://www.1mg.com/diseases/acne-261  \n",
       "2   https://www.1mg.com/diseases/allergic-conditio...  \n",
       "3         https://www.1mg.com/diseases/amenorrhea-467  \n",
       "4             https://www.1mg.com/diseases/anxiety-69  \n",
       "..                                                ...  \n",
       "85     https://www.1mg.com/diseases/typhoid-fever-254  \n",
       "86  https://www.1mg.com/diseases/urinary-tract-inf...  \n",
       "87           https://www.1mg.com/diseases/vertigo-209  \n",
       "88        https://www.1mg.com/diseases/xerostomia-910  \n",
       "89  https://www.1mg.com/diseases/zika-virus-diseas...  \n",
       "\n",
       "[90 rows x 3 columns]"
      ]
     },
     "execution_count": 42,
     "metadata": {},
     "output_type": "execute_result"
    }
   ],
   "source": [
    "Df=pd.DataFrame({\n",
    "    'disease name':d_name,\n",
    "    'description':d_dese,\n",
    "    'link':d_link\n",
    "})\n",
    "Df"
   ]
  },
  {
   "cell_type": "code",
   "execution_count": 43,
   "metadata": {},
   "outputs": [],
   "source": [
    "Df.to_excel('data_all_disease_extra_update.xlsx')"
   ]
  },
  {
   "cell_type": "code",
   "execution_count": null,
   "metadata": {},
   "outputs": [],
   "source": []
  }
 ],
 "metadata": {
  "interpreter": {
   "hash": "1e915f0a29dc84041eaeb02b7b1a21c440e37a87b61d44d5e84a515737dc82bc"
  },
  "kernelspec": {
   "display_name": "Python 3.9.7 ('base')",
   "language": "python",
   "name": "python3"
  },
  "language_info": {
   "codemirror_mode": {
    "name": "ipython",
    "version": 3
   },
   "file_extension": ".py",
   "mimetype": "text/x-python",
   "name": "python",
   "nbconvert_exporter": "python",
   "pygments_lexer": "ipython3",
   "version": "3.9.7"
  },
  "orig_nbformat": 4
 },
 "nbformat": 4,
 "nbformat_minor": 2
}
